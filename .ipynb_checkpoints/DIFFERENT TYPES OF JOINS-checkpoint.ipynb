{
 "cells": [
  {
   "cell_type": "markdown",
   "id": "f07878e0",
   "metadata": {},
   "source": [
    "Different Types of Joins"
   ]
  },
  {
   "cell_type": "markdown",
   "id": "0e0738d5",
   "metadata": {},
   "source": [
    "Joins are used to combine records from 2 or more tables in a Dbase"
   ]
  },
  {
   "cell_type": "markdown",
   "id": "3c867f8c",
   "metadata": {},
   "source": [
    "A join always locates related column values in the two tables"
   ]
  },
  {
   "cell_type": "markdown",
   "id": "719f0367",
   "metadata": {},
   "source": [
    "1. Left Join- returns all rows from left table, even if there are no matches in the right table "
   ]
  },
  {
   "cell_type": "code",
   "execution_count": 1,
   "id": "970f2d32",
   "metadata": {},
   "outputs": [
    {
     "name": "stdout",
     "output_type": "stream",
     "text": [
      "          Team  ICC_rank_x  World_champions_Year  Points_x  ICC_rank_y  \\\n",
      "0        India           2                  2011       874         NaN   \n",
      "1    Australia           3                  2015       787         NaN   \n",
      "2  West Indies           7                  1979       753         NaN   \n",
      "3     Pakistan           8                  1992       673         NaN   \n",
      "4    Sri Lanka           4                  1996       855         NaN   \n",
      "\n",
      "   Points_y  \n",
      "0       NaN  \n",
      "1       NaN  \n",
      "2       NaN  \n",
      "3       NaN  \n",
      "4       NaN  \n"
     ]
    }
   ],
   "source": [
    "import pandas as pd\n",
    "world_champions= {'Team':['India','Australia','West Indies','Pakistan','Sri Lanka'],'ICC_rank':[2,3,7,8,4],'World_champions_Year':[2011,2015,1979,1992,1996],'Points':[874,787,753,673,855]}\n",
    "chokers={'Team':['South Africa','New Zealand','Zimbabwe'],'ICC_rank':[1,5,9],'Points':[895,764,656]}\n",
    "df1=pd.DataFrame(world_champions)\n",
    "df2=pd.DataFrame(chokers)\n",
    "print(pd.merge(df1,df2,on='Team',how='left'))"
   ]
  },
  {
   "cell_type": "markdown",
   "id": "74ede71e",
   "metadata": {},
   "source": [
    "2. Right Join- Preserves the unmatched rows from the second (right) table, joining them with a NULL in the shape of the first(left) table"
   ]
  },
  {
   "cell_type": "code",
   "execution_count": 2,
   "id": "adb1ebeb",
   "metadata": {},
   "outputs": [
    {
     "name": "stdout",
     "output_type": "stream",
     "text": [
      "           Team  ICC_rank_x  World_champions_Year  Points_x  ICC_rank_y  \\\n",
      "0  South Africa         NaN                   NaN       NaN           1   \n",
      "1   New Zealand         NaN                   NaN       NaN           5   \n",
      "2      Zimbabwe         NaN                   NaN       NaN           9   \n",
      "\n",
      "   Points_y  \n",
      "0       895  \n",
      "1       764  \n",
      "2       656  \n"
     ]
    }
   ],
   "source": [
    "import pandas as pd\n",
    "world_champions= {'Team':['India','Australia','West Indies','Pakistan','Sri Lanka'],'ICC_rank':[2,3,7,8,4],'World_champions_Year':[2011,2015,1979,1992,1996],'Points':[874,787,753,673,855]}\n",
    "chokers={'Team':['South Africa','New Zealand','Zimbabwe'],'ICC_rank':[1,5,9],'Points':[895,764,656]}\n",
    "df1=pd.DataFrame(world_champions)\n",
    "df2=pd.DataFrame(chokers)\n",
    "print(pd.merge(df1,df2,on='Team',how='right'))"
   ]
  },
  {
   "cell_type": "markdown",
   "id": "21800029",
   "metadata": {},
   "source": [
    "3. Inner Join- Selects all rows from both participating tables if there is a match between the columns"
   ]
  },
  {
   "cell_type": "code",
   "execution_count": 3,
   "id": "546362a6",
   "metadata": {},
   "outputs": [
    {
     "name": "stdout",
     "output_type": "stream",
     "text": [
      "Empty DataFrame\n",
      "Columns: [Team, ICC_rank_x, World_champions_Year, Points_x, ICC_rank_y, Points_y]\n",
      "Index: []\n"
     ]
    }
   ],
   "source": [
    "import pandas as pd\n",
    "world_champions= {'Team':['India','Australia','West Indies','Pakistan','Sri Lanka'],'ICC_rank':[2,3,7,8,4],'World_champions_Year':[2011,2015,1979,1992,1996],'Points':[874,787,753,673,855]}\n",
    "chokers={'Team':['South Africa','New Zealand','Zimbabwe'],'ICC_rank':[1,5,9],'Points':[895,764,656]}\n",
    "df1=pd.DataFrame(world_champions)\n",
    "df2=pd.DataFrame(chokers)\n",
    "print(pd.merge(df1,df2,on='Team',how='inner'))"
   ]
  },
  {
   "cell_type": "markdown",
   "id": "543dca1a",
   "metadata": {},
   "source": [
    "4. Fuller Outer Join- Returns all records when there is a match in either left (table1) or right (table2) table records"
   ]
  },
  {
   "cell_type": "code",
   "execution_count": 4,
   "id": "c765c194",
   "metadata": {},
   "outputs": [
    {
     "name": "stdout",
     "output_type": "stream",
     "text": [
      "           Team  ICC_rank_x  World_champions_Year  Points_x  ICC_rank_y  \\\n",
      "0         India         2.0                2011.0     874.0         NaN   \n",
      "1     Australia         3.0                2015.0     787.0         NaN   \n",
      "2   West Indies         7.0                1979.0     753.0         NaN   \n",
      "3      Pakistan         8.0                1992.0     673.0         NaN   \n",
      "4     Sri Lanka         4.0                1996.0     855.0         NaN   \n",
      "5  South Africa         NaN                   NaN       NaN         1.0   \n",
      "6   New Zealand         NaN                   NaN       NaN         5.0   \n",
      "7      Zimbabwe         NaN                   NaN       NaN         9.0   \n",
      "\n",
      "   Points_y  \n",
      "0       NaN  \n",
      "1       NaN  \n",
      "2       NaN  \n",
      "3       NaN  \n",
      "4       NaN  \n",
      "5     895.0  \n",
      "6     764.0  \n",
      "7     656.0  \n"
     ]
    }
   ],
   "source": [
    "import pandas as pd\n",
    "world_champions= {'Team':['India','Australia','West Indies','Pakistan','Sri Lanka'],'ICC_rank':[2,3,7,8,4],'World_champions_Year':[2011,2015,1979,1992,1996],'Points':[874,787,753,673,855]}\n",
    "chokers={'Team':['South Africa','New Zealand','Zimbabwe'],'ICC_rank':[1,5,9],'Points':[895,764,656]}\n",
    "df1=pd.DataFrame(world_champions)\n",
    "df2=pd.DataFrame(chokers)\n",
    "print(pd.merge(df1,df2,on='Team',how='outer'))"
   ]
  }
 ],
 "metadata": {
  "kernelspec": {
   "display_name": "Python 3 (ipykernel)",
   "language": "python",
   "name": "python3"
  },
  "language_info": {
   "codemirror_mode": {
    "name": "ipython",
    "version": 3
   },
   "file_extension": ".py",
   "mimetype": "text/x-python",
   "name": "python",
   "nbconvert_exporter": "python",
   "pygments_lexer": "ipython3",
   "version": "3.9.13"
  }
 },
 "nbformat": 4,
 "nbformat_minor": 5
}
